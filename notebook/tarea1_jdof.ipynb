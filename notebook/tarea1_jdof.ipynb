{
  "nbformat": 4,
  "nbformat_minor": 0,
  "metadata": {
    "colab": {
      "provenance": []
    },
    "kernelspec": {
      "name": "python3",
      "display_name": "Python 3"
    },
    "language_info": {
      "name": "python"
    }
  },
  "cells": [
    {
      "cell_type": "markdown",
      "source": [
        "![cg.jpg](https://raw.githubusercontent.com/jdanifalcon/FundamentosIA/main/logo/logo_cg.jpg)\n",
        "\n",
        "\n",
        "# Tarea 1\n",
        "\n",
        "#### Aprendizaje de máquina\n",
        "#### @date 14/05/2023\n",
        "#### @autor: Jessica Daniela Ocaña Falcón"
      ],
      "metadata": {
        "id": "PAXCOfzefmCv"
      }
    },
    {
      "cell_type": "code",
      "execution_count": 28,
      "metadata": {
        "id": "MyhPj8vpqxId"
      },
      "outputs": [],
      "source": [
        "import numpy as np\n",
        "import matplotlib.pyplot as plt"
      ]
    },
    {
      "cell_type": "code",
      "source": [
        "def crear_transformacion_matrices(theta, s1, s2, h):\n",
        "    \"\"\"\n",
        "    Crea las matrices de rotación, escalado y cizalladura.\n",
        "\n",
        "    Parámetros:\n",
        "    theta - Ángulo de rotación en radianes.\n",
        "    s1, s2 - Factores de escalado en x e y respectivamente.\n",
        "    h - Factor de cizalladura.\n",
        "\n",
        "    Retorna:\n",
        "    R, S, H - Matrices de rotación, escalado y cizalladura.\n",
        "    \"\"\"\n",
        "    # Matriz de rotación\n",
        "    R = np.array([\n",
        "        [np.cos(theta), -np.sin(theta)],\n",
        "        [np.sin(theta), np.cos(theta)]\n",
        "    ])\n",
        "    # Matriz de escalado\n",
        "    S = np.array([\n",
        "        [s1, 0],\n",
        "        [0, s2]\n",
        "    ])\n",
        "    # Matriz de cizalladura\n",
        "    H = np.array([\n",
        "        [1, h],\n",
        "        [0, 1]\n",
        "    ])\n",
        "    return R, S, H"
      ],
      "metadata": {
        "id": "-NOnj1O-q12z"
      },
      "execution_count": 29,
      "outputs": []
    },
    {
      "cell_type": "code",
      "source": [
        "def apply_transform_afin(square, A, b):\n",
        "    \"\"\"\n",
        "    Aplica la transformación afín a un conjunto de puntos.\n",
        "\n",
        "    Parámetros:\n",
        "    cuadrado - Puntos del cuadrado original (2xN numpy array).\n",
        "    A - Matriz de transformación afín.\n",
        "    b - Vector de traslación.\n",
        "\n",
        "    Retorna:\n",
        "    cuadrado_transformado - Puntos transformados.\n",
        "    \"\"\"\n",
        "    cuadrado_transformado = A @ square + b[:, np.newaxis]\n",
        "    return cuadrado_transformado"
      ],
      "metadata": {
        "id": "L2vT-epod7fS"
      },
      "execution_count": 30,
      "outputs": []
    },
    {
      "cell_type": "code",
      "source": [
        "def plot_transform(original, transformed):\n",
        "    \"\"\"\n",
        "    Grafica el cuadrado original y el transformado.\n",
        "\n",
        "    Parámetros:\n",
        "    original - Puntos del cuadrado original.\n",
        "    transformado - Puntos del cuadrado transformado.\n",
        "    \"\"\"\n",
        "    plt.figure(figsize=(8, 8))\n",
        "    plt.plot(original[0, :], original[1, :], 'm-', label='Original')\n",
        "    plt.plot(transformed[0, :], transformed[1, :], 'g-', label='Transformado')\n",
        "    plt.xlim(-2, 4)\n",
        "    plt.ylim(-2, 4)\n",
        "    plt.axhline(0, color='gray', linewidth=0.5)\n",
        "    plt.axvline(0, color='gray', linewidth=0.5)\n",
        "    plt.grid(True)\n",
        "    plt.legend()\n",
        "    plt.title('Transformación Afín de un Cuadrado')\n",
        "    plt.xlabel('x')\n",
        "    plt.ylabel('y')\n",
        "    plt.show()"
      ],
      "metadata": {
        "id": "FvkXzdcueHEM"
      },
      "execution_count": 31,
      "outputs": []
    },
    {
      "cell_type": "code",
      "source": [
        "def transform_afin(theta=np.pi/4, s1=1, s2=1, h=0, tx=0, ty=0):\n",
        "    \"\"\"\n",
        "    Realiza y grafica una transformación afín en un cuadrado.\n",
        "\n",
        "    Parámetros:\n",
        "    theta - Ángulo de rotación en radianes (default: π/4).\n",
        "    s1 - Factor de escalado en x (default: 1).\n",
        "    s2 - Factor de escalado en y (default: 1).\n",
        "    h - Factor de cizalladura (default: 0).\n",
        "    tx - Traslación en x (default: 0).\n",
        "    ty - Traslación en y (default: 0).\n",
        "    \"\"\"\n",
        "    # Crear las matrices de transformación\n",
        "    R, S, H = crear_transformacion_matrices(theta, s1, s2, h)\n",
        "    # Componer la transformación afín\n",
        "    A = R @ S @ H\n",
        "    b = np.array([tx, ty])\n",
        "\n",
        "    # Puntos originales del cuadrado\n",
        "    cuadrado = np.array([\n",
        "        [0, 0],\n",
        "        [1, 0],\n",
        "        [1, 1],\n",
        "        [0, 1],\n",
        "        [0, 0]  # para cerrar el cuadrado\n",
        "    ]).T\n",
        "\n",
        "    # Aplicar la transformación afín\n",
        "    cuadrado_transformado = apply_transform_afin(cuadrado, A, b)\n",
        "\n",
        "    # Graficar\n",
        "    plot_transform(cuadrado, cuadrado_transformado)\n",
        "\n",
        "# Parametros: angulo en radianes, factores de escalado, factor de cizalla, traslacion en x e y\n",
        "transform_afin(np.pi/4, 1, 1, 0, 1, 1)"
      ],
      "metadata": {
        "colab": {
          "base_uri": "https://localhost:8080/",
          "height": 718
        },
        "id": "mF4Qo3EAr9sv",
        "outputId": "62b557b9-5de6-458e-a53d-4c3af569f23a"
      },
      "execution_count": 32,
      "outputs": [
        {
          "output_type": "display_data",
          "data": {
            "text/plain": [
              "<Figure size 800x800 with 1 Axes>"
            ],
            "image/png": "[encoded data removed]"
          },
          "metadata": {}
        }
      ]
    }
  ]
}